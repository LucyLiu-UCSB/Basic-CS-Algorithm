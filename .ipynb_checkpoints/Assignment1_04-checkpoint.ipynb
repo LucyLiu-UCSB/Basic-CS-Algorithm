{
 "cells": [
  {
   "cell_type": "code",
   "execution_count": 67,
   "metadata": {},
   "outputs": [
    {
     "name": "stderr",
     "output_type": "stream",
     "text": [
      "//anaconda3/lib/python3.7/importlib/_bootstrap.py:219: RuntimeWarning: numpy.ufunc size changed, may indicate binary incompatibility. Expected 192 from C header, got 216 from PyObject\n",
      "  return f(*args, **kwds)\n"
     ]
    }
   ],
   "source": [
    "import pandas as pd\n",
    "data = pd.read_csv('integerArray.txt', header = None)"
   ]
  },
  {
   "cell_type": "markdown",
   "metadata": {},
   "source": [
    "## Brute force method"
   ]
  },
  {
   "cell_type": "code",
   "execution_count": 40,
   "metadata": {},
   "outputs": [],
   "source": [
    "def bruteForceCount(arr):\n",
    "    count = 0\n",
    "    for i in range(len(arr)):\n",
    "        for j in range(i + 1, len(arr)):\n",
    "            if arr[i] > arr [j]:\n",
    "                count = count + 1\n",
    "                #print(count)\n",
    "    return count "
   ]
  },
  {
   "cell_type": "code",
   "execution_count": 41,
   "metadata": {},
   "outputs": [
    {
     "data": {
      "text/plain": [
       "12"
      ]
     },
     "execution_count": 41,
     "metadata": {},
     "output_type": "execute_result"
    }
   ],
   "source": [
    "arr = [1, 2, 5, 6, 4, 0, 10, 1]\n",
    "bruteForceCount(arr)"
   ]
  },
  {
   "cell_type": "markdown",
   "metadata": {},
   "source": [
    "## Q1 count inversion"
   ]
  },
  {
   "cell_type": "code",
   "execution_count": 68,
   "metadata": {},
   "outputs": [],
   "source": [
    "def mergeSortInversion(arr):\n",
    "    \n",
    "    # define base case\n",
    "    if len(arr) == 1:\n",
    "        return arr, 0\n",
    "    else:\n",
    "        # define two sublist\n",
    "        left = arr[:int(len(arr)/2)]\n",
    "        right = arr[int(len(arr)/2):]\n",
    "        \n",
    "        # recursion, return left and right are the sorted sublists\n",
    "        left, leftCount = mergeSortInversion(left)\n",
    "        right, rightCount = mergeSortInversion(right)\n",
    "        \n",
    "\n",
    "        # the sorted list\n",
    "        lsorted = []\n",
    "        \n",
    "        i = 0 # index of left sublist\n",
    "        j = 0 # index of right sublist\n",
    "        inversions = leftCount + rightCount\n",
    "        \n",
    "        while i < len(left) and j < len(right):\n",
    "            if left[i] <= right[j]:\n",
    "                # not an inversion\n",
    "                lsorted.append(left[i])\n",
    "                i = i + 1\n",
    "            else:\n",
    "                # an inversion case\n",
    "                lsorted.append(right[j])\n",
    "                j = j + 1\n",
    "                inversions = inversions + len(left) - i\n",
    "         \n",
    "        # conbime the remaining sublist, note only one of left[i:] and right[j:] is not null\n",
    "        lsorted = lsorted + left[i:]\n",
    "        lsorted = lsorted + right[j:]\n",
    "\n",
    "    return lsorted, inversions               "
   ]
  },
  {
   "cell_type": "code",
   "execution_count": 84,
   "metadata": {},
   "outputs": [],
   "source": [
    "data = data[0].tolist()\n",
    "datasort, Invercou = mergeSortInversion(data)"
   ]
  },
  {
   "cell_type": "code",
   "execution_count": 86,
   "metadata": {},
   "outputs": [
    {
     "data": {
      "text/plain": [
       "2407905288"
      ]
     },
     "execution_count": 86,
     "metadata": {},
     "output_type": "execute_result"
    }
   ],
   "source": [
    "Invercou"
   ]
  },
  {
   "cell_type": "markdown",
   "metadata": {},
   "source": [
    "## simulation to compute average inversions"
   ]
  },
  {
   "cell_type": "code",
   "execution_count": 44,
   "metadata": {},
   "outputs": [],
   "source": [
    "import numpy as np\n",
    "\n",
    "mlist = np.arange(1, 11)*10\n",
    "totalCountlist = []\n",
    "\n",
    "for m in mlist:\n",
    "    totalCount = 0\n",
    "    for i in range(1000):\n",
    "        arr = np.random.permutation(m)\n",
    "        arr = arr.tolist()\n",
    "        arrsot, cot = mergeSortInversion(arr)\n",
    "        totalCount = totalCount + cot\n",
    "        aveCount = totalCount/1000\n",
    "    totalCountlist.append(aveCount)"
   ]
  },
  {
   "cell_type": "code",
   "execution_count": 45,
   "metadata": {},
   "outputs": [],
   "source": [
    "%matplotlib inline\n",
    "import matplotlib.pyplot as plt\n",
    "plt.style.use('seaborn-whitegrid')"
   ]
  },
  {
   "cell_type": "code",
   "execution_count": 66,
   "metadata": {},
   "outputs": [
    {
     "data": {
      "text/plain": [
       "<matplotlib.legend.Legend at 0x120d04128>"
      ]
     },
     "execution_count": 66,
     "metadata": {},
     "output_type": "execute_result"
    },
    {
     "data": {
      "image/png": "[encoded data removed]",
      "text/plain": [
       "<Figure size 432x288 with 1 Axes>"
      ]
     },
     "metadata": {},
     "output_type": "display_data"
    }
   ],
   "source": [
    "plt.plot(mlist, totalCountlist, '.r', markersize = 15, label = 'simulation')\n",
    "plt.plot(mlist, mlist*(mlist-1)/4, '--b', linewidth = 2, label = 'expect value')\n",
    "plt.title('Average number of inversions', fontsize=20)\n",
    "plt.xlabel('length of list', fontsize=20)\n",
    "plt.ylabel('numebr of inversions', fontsize=20)\n",
    "plt.legend(bbox_to_anchor=(1.05, 1), loc = 'upper left', borderaxespad=0., prop={'size': 18})"
   ]
  },
  {
   "cell_type": "code",
   "execution_count": 30,
   "metadata": {},
   "outputs": [],
   "source": [
    "### jupyter nbconvert --to markdown Assignment1_04.ipynb"
   ]
  },
  {
   "cell_type": "code",
   "execution_count": 31,
   "metadata": {},
   "outputs": [],
   "source": [
    "totalCountlist1 = []\n",
    "for m in mlist:\n",
    "    totalCount = 0\n",
    "    for i in range(1000):\n",
    "        arr = np.random.permutation(m)\n",
    "        count = bruteForceCount(arr)\n",
    "        totalCount = totalCount + count\n",
    "        aveCount = totalCount/1000\n",
    "    totalCountlist1.append(aveCount)"
   ]
  },
  {
   "cell_type": "code",
   "execution_count": 32,
   "metadata": {},
   "outputs": [
    {
     "name": "stdout",
     "output_type": "stream",
     "text": [
      "[22.303, 94.916, 215.62, 388.408, 609.389, 885.119, 1208.132, 1581.921, 2005.441, 2486.323]\n"
     ]
    }
   ],
   "source": [
    "print(totalCountlist1)"
   ]
  },
  {
   "cell_type": "code",
   "execution_count": null,
   "metadata": {},
   "outputs": [],
   "source": []
  }
 ],
 "metadata": {
  "kernelspec": {
   "display_name": "Python 3",
   "language": "python",
   "name": "python3"
  },
  "language_info": {
   "codemirror_mode": {
    "name": "ipython",
    "version": 3
   },
   "file_extension": ".py",
   "mimetype": "text/x-python",
   "name": "python",
   "nbconvert_exporter": "python",
   "pygments_lexer": "ipython3",
   "version": "3.7.3"
  }
 },
 "nbformat": 4,
 "nbformat_minor": 4
}
