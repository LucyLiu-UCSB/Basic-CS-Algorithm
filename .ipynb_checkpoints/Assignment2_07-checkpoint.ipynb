{
 "cells": [
  {
   "cell_type": "markdown",
   "metadata": {},
   "source": [
    "## conut comparisons in QuickSort"
   ]
  },
  {
   "cell_type": "code",
   "execution_count": 98,
   "metadata": {},
   "outputs": [],
   "source": [
    "import pandas as pd\n",
    "data = pd.read_csv('QuickSort.txt', header = None)"
   ]
  },
  {
   "cell_type": "markdown",
   "metadata": {},
   "source": [
    "## taking the first element as pivot"
   ]
  },
  {
   "cell_type": "code",
   "execution_count": 146,
   "metadata": {},
   "outputs": [],
   "source": [
    "def quickSort(arr, start, end, count):\n",
    "   # print(arr)\n",
    "    if (end-start) <= 1: return None\n",
    "    else:\n",
    "        split = singleSort(arr, start, end, count)\n",
    "        \n",
    "        quickSort(arr, start, split, count)\n",
    "        quickSort(arr, split+1, end, count)\n"
   ]
  },
  {
   "cell_type": "code",
   "execution_count": 100,
   "metadata": {},
   "outputs": [],
   "source": [
    "def singleSort(arr, start, end, count):\n",
    "    arrlen = end - start \n",
    "    count.append(arrlen - 1)\n",
    "    pivot = arr[start]\n",
    "    i = start + 1\n",
    "    j = start + 1\n",
    "    while i < end and j < end:\n",
    "        if arr[j] >= pivot :\n",
    "            j = j + 1\n",
    "        else: \n",
    "            arr[i], arr[j] = arr[j], arr[i]\n",
    "            i = i + 1\n",
    "            j = j + 1\n",
    "    arr[start], arr[i-1] = arr[i-1], arr[start]\n",
    "    return i-1 \n",
    "            \n"
   ]
  },
  {
   "cell_type": "code",
   "execution_count": 102,
   "metadata": {},
   "outputs": [
    {
     "name": "stdout",
     "output_type": "stream",
     "text": [
      "162085\n"
     ]
    }
   ],
   "source": [
    "arr = data[0].tolist()\n",
    "count = []\n",
    "quickSort(arr, 0, len(arr), count)\n",
    "print(sum(count))"
   ]
  },
  {
   "cell_type": "code",
   "execution_count": null,
   "metadata": {},
   "outputs": [],
   "source": [
    "## taking the last lement as pivot"
   ]
  },
  {
   "cell_type": "code",
   "execution_count": 109,
   "metadata": {},
   "outputs": [],
   "source": [
    "def singleSort(arr, start, end, count):\n",
    "    arrlen = end - start \n",
    "    count.append(arrlen - 1)\n",
    "    arr[start], arr[end-1] = arr[end-1], arr[start]\n",
    "    pivot = arr[start]\n",
    "    i = start + 1\n",
    "    j = start + 1\n",
    "    while i < end and j < end:\n",
    "        if arr[j] >= pivot :\n",
    "            j = j + 1\n",
    "        else: \n",
    "            arr[i], arr[j] = arr[j], arr[i]\n",
    "            i = i + 1\n",
    "            j = j + 1\n",
    "    arr[start], arr[i-1] = arr[i-1], arr[start]\n",
    "    return i-1 \n",
    "            \n"
   ]
  },
  {
   "cell_type": "code",
   "execution_count": 110,
   "metadata": {},
   "outputs": [
    {
     "name": "stdout",
     "output_type": "stream",
     "text": [
      "164123\n"
     ]
    }
   ],
   "source": [
    "arr = data[0].tolist()\n",
    "count = []\n",
    "quickSort(arr, 0, len(arr), count)\n",
    "print(sum(count))"
   ]
  },
  {
   "cell_type": "markdown",
   "metadata": {},
   "source": [
    "## using \"median-of-three\" pivot rule"
   ]
  },
  {
   "cell_type": "code",
   "execution_count": 150,
   "metadata": {},
   "outputs": [],
   "source": [
    "def getMedianIndex(arr, start, end):\n",
    "    med = int((end + start-1)/2)\n",
    "    tre = [arr[start], arr[med], arr[end-1]]\n",
    "    tre.sort()\n",
    "    #print(tre)\n",
    "    ori = {}\n",
    "    ori[arr[start]] = start\n",
    "    ori[arr[med]] = med\n",
    "    ori[arr[end-1]] = end-1\n",
    "\n",
    "    return ori[tre[1]]\n",
    "    \n",
    "    "
   ]
  },
  {
   "cell_type": "code",
   "execution_count": 151,
   "metadata": {},
   "outputs": [],
   "source": [
    "def singleSort(arr, start, end, count):\n",
    "    arrlen = end - start \n",
    "    count.append(arrlen - 1)\n",
    "    med = getMedianIndex(arr, start, end)\n",
    "    arr[start], arr[med] = arr[med], arr[start]\n",
    "    pivot = arr[start]\n",
    "    i = start + 1\n",
    "    j = start + 1\n",
    "    while i < end and j < end:\n",
    "        if arr[j] >= pivot :\n",
    "            j = j + 1\n",
    "        else: \n",
    "            arr[i], arr[j] = arr[j], arr[i]\n",
    "            i = i + 1\n",
    "            j = j + 1\n",
    "    arr[start], arr[i-1] = arr[i-1], arr[start]\n",
    "    return i-1 \n",
    "            "
   ]
  },
  {
   "cell_type": "code",
   "execution_count": 152,
   "metadata": {},
   "outputs": [
    {
     "name": "stdout",
     "output_type": "stream",
     "text": [
      "138382\n"
     ]
    }
   ],
   "source": [
    "arr = data[0].tolist()\n",
    "count = []\n",
    "quickSort(arr, 0, len(arr), count)\n",
    "print(sum(count))"
   ]
  }
 ],
 "metadata": {
  "kernelspec": {
   "display_name": "Python 3",
   "language": "python",
   "name": "python3"
  },
  "language_info": {
   "codemirror_mode": {
    "name": "ipython",
    "version": 3
   },
   "file_extension": ".py",
   "mimetype": "text/x-python",
   "name": "python",
   "nbconvert_exporter": "python",
   "pygments_lexer": "ipython3",
   "version": "3.7.3"
  }
 },
 "nbformat": 4,
 "nbformat_minor": 4
}
