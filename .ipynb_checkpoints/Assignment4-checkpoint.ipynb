{
 "cells": [
  {
   "cell_type": "markdown",
   "metadata": {},
   "source": [
    "### Kosaraju's two-pass algorithm\n",
    "\n",
    "1. rescurse all arcs in the graph\n",
    "2. run DFS -loop on $G^{rev}$ -- compute 'magical ordering' of the notes \\\n",
    "let f(v) = 'finishing time' of each v $\\in$ G^{rev}\n",
    "3. run DFS -loop on G -- discover the SCCs"
   ]
  },
  {
   "cell_type": "markdown",
   "metadata": {},
   "source": [
    "## read in key, value pair"
   ]
  },
  {
   "cell_type": "code",
   "execution_count": 6,
   "metadata": {},
   "outputs": [],
   "source": [
    "from collections import defaultdict\n",
    "adj_lst = defaultdict(list)\n",
    "with open('scc_short.txt') as f:\n",
    "    lines = f.readlines()\n",
    "    \n",
    "for line in lines:\n",
    "    ll = line.strip().split()\n",
    "    adj_lst[int(ll[0])].append(int(ll[1]))"
   ]
  },
  {
   "cell_type": "markdown",
   "metadata": {},
   "source": [
    "## form adjacent list"
   ]
  },
  {
   "cell_type": "code",
   "execution_count": 182,
   "metadata": {},
   "outputs": [
    {
     "data": {
      "text/plain": [
       "defaultdict(list,\n",
       "            {7: [1],\n",
       "             4: [7],\n",
       "             1: [4],\n",
       "             9: [7, 3],\n",
       "             6: [9],\n",
       "             8: [6, 5],\n",
       "             2: [8],\n",
       "             5: [2],\n",
       "             3: [6]})"
      ]
     },
     "execution_count": 182,
     "metadata": {},
     "output_type": "execute_result"
    }
   ],
   "source": [
    "adj_lst"
   ]
  },
  {
   "cell_type": "markdown",
   "metadata": {},
   "source": [
    "## reverse the graph    "
   ]
  },
  {
   "cell_type": "code",
   "execution_count": 7,
   "metadata": {},
   "outputs": [],
   "source": [
    "class Graph:\n",
    "    \n",
    "    def __init__(self, adj_lst):        \n",
    "        self.graph = adj_lst  \n",
    "    \n",
    "    def addEdge(self, vertex1, vertex2): # add an edge from vertex1 to vertex2\n",
    "        self.graph[vertex1].append(vertex2)\n",
    "    \n",
    "    def reverseGraph(self):        \n",
    "        inverseG = Graph(defaultdict(list))\n",
    "        \n",
    "        for i in self.graph:\n",
    "            for j in self.graph[i]:\n",
    "                inverseG.addEdge(j, i)\n",
    "        return inverseG\n",
    "## first DFS to computing finishing time\n",
    "\n",
    "\n",
    "    def finishingTimeStack(self, vertex, visited, stack):\n",
    "        '''\n",
    "        visited: a list to record visited vertices\n",
    "        vertex: current vertex \n",
    "        stack: push vertex to stack as DFS proceeding\n",
    "        '''\n",
    "        \n",
    "        visited[vertex] = True\n",
    "        for i in self.graph[vertex]:\n",
    "            if visited[i] == False:\n",
    "                self.finishingTimeStack(i, visited, stack)\n",
    "        stack.append(vertex)\n",
    "        # print(stack)\n",
    "        \n",
    "    def getOneSCC(self, vertex, visited, scc):\n",
    "        scc.append(vertex)\n",
    "        visited[vertex] = True\n",
    "        \n",
    "        for v in self.graph[vertex]:\n",
    "            if visited[v] == False:\n",
    "                self.getOneSCC(v, visited, scc)\n",
    "       \n",
    "    def computeSCCs(self):\n",
    "        \n",
    "        stack = [] # order of stack is the finishing time\n",
    "        \n",
    "        ### First DFS: compute the finishing time\n",
    "        visited = defaultdict(bool) # initialized all notes as unvisited\n",
    "        \n",
    "        for i in self.graph.keys(): # use outer loop to ganrantee every note will be visited\n",
    "            if visited[i] == False:\n",
    "                self.finishingTimeStack(i, visited, stack)\n",
    "        \n",
    "        ### Compute a inverse graph\n",
    "        inverG = self.reverseGraph()\n",
    "        \n",
    "        ### Second DFS: compute the SCCs\n",
    "        SCC_lst = []\n",
    "        visited =  defaultdict(bool) # initialized all notes as unvisited \n",
    "        while stack:\n",
    "            i = stack.pop()\n",
    "            if visited[i] == False:\n",
    "                scc = []\n",
    "                inverG.getOneSCC(i, visited, scc)\n",
    "                SCC_lst.append(scc)\n",
    "        return SCC_lst\n",
    "    "
   ]
  },
  {
   "cell_type": "code",
   "execution_count": 8,
   "metadata": {},
   "outputs": [],
   "source": [
    "oriG = Graph(adj_lst)\n",
    "invG = oriG.reverseGraph()"
   ]
  },
  {
   "cell_type": "code",
   "execution_count": 9,
   "metadata": {},
   "outputs": [],
   "source": [
    "scclist = invG.computeSCCs()"
   ]
  },
  {
   "cell_type": "markdown",
   "metadata": {},
   "source": [
    "## the large exercise"
   ]
  },
  {
   "cell_type": "code",
   "execution_count": 19,
   "metadata": {},
   "outputs": [],
   "source": [
    "from collections import defaultdict\n",
    "adj_lst = defaultdict(list)\n",
    "with open('SCC.txt') as f:\n",
    "    lines = f.readlines()\n",
    "    \n",
    "for line in lines:\n",
    "    ll = line.strip().split()\n",
    "    adj_lst[int(ll[0])].append(int(ll[1]))"
   ]
  },
  {
   "cell_type": "code",
   "execution_count": 10,
   "metadata": {},
   "outputs": [],
   "source": [
    "    \n",
    "oriG = Graph(adj_lst)\n",
    "invG = oriG.reverseGraph()"
   ]
  },
  {
   "cell_type": "code",
   "execution_count": 10,
   "metadata": {},
   "outputs": [
    {
     "data": {
      "text/plain": [
       "450560000"
      ]
     },
     "execution_count": 10,
     "metadata": {},
     "output_type": "execute_result"
    }
   ],
   "source": [
    "import sys\n",
    "import threading\n",
    "sys.setrecursionlimit(300000)\n",
    "threading.stack_size(4096*110000)"
   ]
  },
  {
   "cell_type": "code",
   "execution_count": null,
   "metadata": {},
   "outputs": [],
   "source": [
    "scclist = invG.computeSCCs()"
   ]
  },
  {
   "cell_type": "code",
   "execution_count": 7,
   "metadata": {},
   "outputs": [],
   "source": [
    "countNote = []\n",
    "for sublist in scclist:\n",
    "    countNote.append(len(sublist))"
   ]
  },
  {
   "cell_type": "code",
   "execution_count": 9,
   "metadata": {},
   "outputs": [],
   "source": [
    "with open('sccount.txt', 'w') as f:\n",
    "    for item in countNote:\n",
    "        f.write(\"%s\\n\" % item)"
   ]
  },
  {
   "cell_type": "code",
   "execution_count": 11,
   "metadata": {},
   "outputs": [],
   "source": [
    "with open('sccount.txt') as f:\n",
    "    lines = f.readlines()\n",
    "countlist = []    \n",
    "for line in lines:\n",
    "    num = int(line.strip())\n",
    "    countlist.append(num)"
   ]
  },
  {
   "cell_type": "code",
   "execution_count": 13,
   "metadata": {},
   "outputs": [
    {
     "data": {
      "text/plain": [
       "371762"
      ]
     },
     "execution_count": 13,
     "metadata": {},
     "output_type": "execute_result"
    }
   ],
   "source": [
    "len(countlist)"
   ]
  },
  {
   "cell_type": "code",
   "execution_count": 16,
   "metadata": {},
   "outputs": [],
   "source": [
    "countlist.sort()"
   ]
  },
  {
   "cell_type": "code",
   "execution_count": 18,
   "metadata": {},
   "outputs": [
    {
     "name": "stdout",
     "output_type": "stream",
     "text": [
      "1\n",
      "434821\n",
      "968\n",
      "459\n",
      "313\n",
      "211\n",
      "205\n"
     ]
    }
   ],
   "source": [
    "for i in range(7):\n",
    "    print(countlist[-i])"
   ]
  },
  {
   "cell_type": "code",
   "execution_count": 20,
   "metadata": {},
   "outputs": [
    {
     "data": {
      "text/plain": [
       "739454"
      ]
     },
     "execution_count": 20,
     "metadata": {},
     "output_type": "execute_result"
    }
   ],
   "source": [
    "len(adj_lst)"
   ]
  }
 ],
 "metadata": {
  "kernelspec": {
   "display_name": "Python 3",
   "language": "python",
   "name": "python3"
  },
  "language_info": {
   "codemirror_mode": {
    "name": "ipython",
    "version": 3
   },
   "file_extension": ".py",
   "mimetype": "text/x-python",
   "name": "python",
   "nbconvert_exporter": "python",
   "pygments_lexer": "ipython3",
   "version": "3.7.5"
  }
 },
 "nbformat": 4,
 "nbformat_minor": 4
}
