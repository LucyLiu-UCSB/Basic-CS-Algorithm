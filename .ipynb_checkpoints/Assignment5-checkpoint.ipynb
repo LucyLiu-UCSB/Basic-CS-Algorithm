{
 "cells": [
  {
   "cell_type": "markdown",
   "metadata": {},
   "source": [
    "## Dijkstra's Shortest-Path Algorithm "
   ]
  },
  {
   "cell_type": "code",
   "execution_count": 59,
   "metadata": {},
   "outputs": [],
   "source": [
    "import re\n",
    "from collections import defaultdict\n",
    "\n",
    "patt = re.compile(\"[^\\t]+\")\n",
    "\n",
    "with open('dijkstraData.txt') as f:\n",
    "    lines = f.readlines()\n",
    "\n",
    "adj_dict = {} \n",
    "\n",
    "for line in lines:\n",
    "    innerdict = {}\n",
    "    line = patt.findall(line.strip())\n",
    "    part2 = line[1:]\n",
    "    for st in part2:\n",
    "        ll = st.split(',')\n",
    "        innerdict[int(ll[0])] = int(ll[1])\n",
    "    \n",
    "    adj_dict[int(line[0])] = innerdict\n",
    "   \n"
   ]
  },
  {
   "cell_type": "code",
   "execution_count": 68,
   "metadata": {},
   "outputs": [],
   "source": [
    "def dijkstraShortPath(startNode, adj_dict, visited, pathlength_dict):\n",
    "    \n",
    "    visited.append(startNode)\n",
    "    temp_length = {}\n",
    "    \n",
    "    for note in visited:\n",
    "        for noteTo, length in adj_dict[note].items():\n",
    "            if noteTo not in visited:\n",
    "                temp_length[noteTo] = min(pathlength_dict.get(note, 0) + length, temp_length.get(noteTo, 10000000000))\n",
    "    \n",
    "    temp_length_sort = sorted(temp_length.items(), key=lambda x: x[1])\n",
    "    \n",
    "    if not temp_length_sort: return\n",
    "    \n",
    "    newNode = temp_length_sort[0][0]\n",
    "    pathlength_dict[newNode] =  temp_length_sort[0][1]\n",
    "    dijkstraShortPath(newNode, adj_dict, visited, pathlength_dict)\n"
   ]
  },
  {
   "cell_type": "code",
   "execution_count": 84,
   "metadata": {},
   "outputs": [],
   "source": [
    "visited = []\n",
    "pathlength_dict = defaultdict(int)"
   ]
  },
  {
   "cell_type": "code",
   "execution_count": 85,
   "metadata": {},
   "outputs": [],
   "source": [
    "dijkstraShortPath(1, adj_dict, visited, pathlength_dict)"
   ]
  },
  {
   "cell_type": "code",
   "execution_count": 86,
   "metadata": {},
   "outputs": [
    {
     "name": "stdout",
     "output_type": "stream",
     "text": [
      "7 : 2599\n",
      "37 : 2610\n",
      "59 : 2947\n",
      "82 : 2052\n",
      "99 : 2367\n",
      "115 : 2399\n",
      "133 : 2029\n",
      "165 : 2442\n",
      "188 : 2505\n",
      "197 : 3068\n"
     ]
    }
   ],
   "source": [
    "for key in [ 7,37,59,82,99,115,133,165,188,197]:\n",
    "    print(key, ':', pathlength_dict[key])"
   ]
  },
  {
   "cell_type": "markdown",
   "metadata": {},
   "source": [
    "## simple example"
   ]
  },
  {
   "cell_type": "code",
   "execution_count": 81,
   "metadata": {},
   "outputs": [],
   "source": [
    "adj_dict_simple = {1:{2:6, 4:1 },\n",
    "            2:{1:6, 5:2, 3:5},\n",
    "            3:{2:5, 5:5},\n",
    "            4:{1:1,5:1, 2:2},\n",
    "            5:{2:2, 3:5, 4:1}}"
   ]
  },
  {
   "cell_type": "code",
   "execution_count": 82,
   "metadata": {},
   "outputs": [],
   "source": [
    "visited = []\n",
    "pathlength_dict = defaultdict(int)\n",
    "dijkstraShortPath(1, adj_dict_simple, visited, pathlength_dict)"
   ]
  },
  {
   "cell_type": "code",
   "execution_count": 83,
   "metadata": {},
   "outputs": [
    {
     "data": {
      "text/plain": [
       "defaultdict(int, {4: 1, 5: 2, 2: 3, 3: 7})"
      ]
     },
     "execution_count": 83,
     "metadata": {},
     "output_type": "execute_result"
    }
   ],
   "source": [
    "pathlength_dict"
   ]
  }
 ],
 "metadata": {
  "kernelspec": {
   "display_name": "Python 3",
   "language": "python",
   "name": "python3"
  },
  "language_info": {
   "codemirror_mode": {
    "name": "ipython",
    "version": 3
   },
   "file_extension": ".py",
   "mimetype": "text/x-python",
   "name": "python",
   "nbconvert_exporter": "python",
   "pygments_lexer": "ipython3",
   "version": "3.7.5"
  }
 },
 "nbformat": 4,
 "nbformat_minor": 4
}
