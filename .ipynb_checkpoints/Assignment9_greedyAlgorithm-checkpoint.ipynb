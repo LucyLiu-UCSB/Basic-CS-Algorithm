{
 "cells": [
  {
   "cell_type": "markdown",
   "metadata": {},
   "source": [
    "## Q1 optimal schedual"
   ]
  },
  {
   "cell_type": "code",
   "execution_count": 16,
   "metadata": {},
   "outputs": [],
   "source": [
    "weight_length = []\n",
    "with open('jobs_assginment9_Q1.txt') as f:\n",
    "    lines = f.readlines()\n",
    "for line in lines:\n",
    "    weight_length.append([int(x) for x in line.strip().split()])\n"
   ]
  },
  {
   "cell_type": "code",
   "execution_count": 18,
   "metadata": {},
   "outputs": [],
   "source": [
    "num = weight_length.pop(0)"
   ]
  },
  {
   "cell_type": "code",
   "execution_count": 21,
   "metadata": {},
   "outputs": [
    {
     "data": {
      "text/plain": [
       "10000"
      ]
     },
     "execution_count": 21,
     "metadata": {},
     "output_type": "execute_result"
    }
   ],
   "source": [
    "len(weight_length)"
   ]
  },
  {
   "cell_type": "code",
   "execution_count": 22,
   "metadata": {},
   "outputs": [],
   "source": [
    "diff = [x[0]-x[1] for x in weight_length]"
   ]
  },
  {
   "cell_type": "code",
   "execution_count": 24,
   "metadata": {},
   "outputs": [],
   "source": [
    "import pandas as pd\n",
    "import numpy as np"
   ]
  },
  {
   "cell_type": "code",
   "execution_count": 25,
   "metadata": {},
   "outputs": [],
   "source": [
    "q1df = pd.DataFrame({'weight': [x[0] for x in weight_length],\n",
    "                    'length':[x[1] for x in weight_length],\n",
    "                    'diff': diff})"
   ]
  },
  {
   "cell_type": "code",
   "execution_count": 53,
   "metadata": {},
   "outputs": [],
   "source": [
    "q1df['ratio'] = q1df['weight']/q1df['length']"
   ]
  },
  {
   "cell_type": "code",
   "execution_count": 54,
   "metadata": {},
   "outputs": [],
   "source": [
    "q1df_sort = q1df.sort_values(by = ['ratio', 'weight'], ascending = [False, False])"
   ]
  },
  {
   "cell_type": "code",
   "execution_count": 55,
   "metadata": {},
   "outputs": [
    {
     "data": {
      "text/plain": [
       "67311454237"
      ]
     },
     "execution_count": 55,
     "metadata": {},
     "output_type": "execute_result"
    }
   ],
   "source": [
    "sum(q1df_sort.length.cumsum()*q1df_sort.weight)"
   ]
  },
  {
   "cell_type": "markdown",
   "metadata": {},
   "source": [
    "## Q2 Prim's minimum spanning tree"
   ]
  },
  {
   "cell_type": "code",
   "execution_count": 81,
   "metadata": {},
   "outputs": [],
   "source": [
    "with open('edges_assignment9_Q2.txt') as f:\n",
    "    lines = f.readlines()\n",
    "raw = []\n",
    "for line in lines:\n",
    "    raw.append([int(t) for t in line.strip().split()])"
   ]
  },
  {
   "cell_type": "code",
   "execution_count": 82,
   "metadata": {},
   "outputs": [],
   "source": [
    "nums = raw.pop(0)"
   ]
  },
  {
   "cell_type": "code",
   "execution_count": 61,
   "metadata": {},
   "outputs": [
    {
     "data": {
      "text/plain": [
       "[500, 2184]"
      ]
     },
     "execution_count": 61,
     "metadata": {},
     "output_type": "execute_result"
    }
   ],
   "source": [
    "nums"
   ]
  },
  {
   "cell_type": "code",
   "execution_count": 83,
   "metadata": {},
   "outputs": [
    {
     "data": {
      "text/plain": [
       "[2, 3, -8874]"
      ]
     },
     "execution_count": 83,
     "metadata": {},
     "output_type": "execute_result"
    }
   ],
   "source": [
    "raw[1]"
   ]
  },
  {
   "cell_type": "code",
   "execution_count": 84,
   "metadata": {},
   "outputs": [],
   "source": [
    "import re\n",
    "from collections import defaultdict"
   ]
  },
  {
   "cell_type": "code",
   "execution_count": 89,
   "metadata": {},
   "outputs": [],
   "source": [
    "adj_dict = defaultdict(dict)"
   ]
  },
  {
   "cell_type": "code",
   "execution_count": 90,
   "metadata": {},
   "outputs": [],
   "source": [
    "for (node1, node2, cost) in raw:\n",
    "    adj_dict[node1][node2] = cost\n",
    "    adj_dict[node2][node1] = cost"
   ]
  },
  {
   "cell_type": "code",
   "execution_count": 91,
   "metadata": {},
   "outputs": [
    {
     "data": {
      "text/plain": [
       "{2: 6807,\n",
       " 132: -151,\n",
       " 171: 8358,\n",
       " 244: 6723,\n",
       " 310: 9791,\n",
       " 316: 569,\n",
       " 324: -1612,\n",
       " 397: -5942,\n",
       " 414: 3655}"
      ]
     },
     "execution_count": 91,
     "metadata": {},
     "output_type": "execute_result"
    }
   ],
   "source": [
    "adj_dict[1]"
   ]
  },
  {
   "cell_type": "code",
   "execution_count": 92,
   "metadata": {},
   "outputs": [
    {
     "data": {
      "text/plain": [
       "{1: 6807,\n",
       " 3: -8874,\n",
       " 25: 6267,\n",
       " 39: 907,\n",
       " 104: -8744,\n",
       " 157: 1036,\n",
       " 173: -7751,\n",
       " 309: -7230}"
      ]
     },
     "execution_count": 92,
     "metadata": {},
     "output_type": "execute_result"
    }
   ],
   "source": [
    "adj_dict[2]"
   ]
  },
  {
   "cell_type": "code",
   "execution_count": 125,
   "metadata": {},
   "outputs": [],
   "source": [
    "def primMST(lastNote, adj_dict, visited, pathlength_dict, total_length):\n",
    "    \n",
    "    visited.append(lastNote)\n",
    "   # print(total_length)\n",
    "    \n",
    "    for noteto, length in adj_dict[lastNote].items():\n",
    "        if noteto not in visited:\n",
    "            pathlength_dict[noteto] = min(pathlength_dict.get(noteto, float('inf')), length)         \n",
    "   \n",
    "    temp_length_sort = sorted(pathlength_dict.items(), key=lambda x: x[1])\n",
    "    \n",
    "    newNode = temp_length_sort[0][0]\n",
    "    total_length = total_length + temp_length_sort[0][1]\n",
    "    \n",
    "    pathlength_dict.pop(newNode)\n",
    "    \n",
    "    if not pathlength_dict: return total_length\n",
    "    \n",
    "    return primMST(newNode, adj_dict, visited, pathlength_dict, total_length)\n"
   ]
  },
  {
   "cell_type": "code",
   "execution_count": 132,
   "metadata": {},
   "outputs": [],
   "source": [
    "startNote = 1\n",
    "visited = []\n",
    "pathlength_dict = {}\n",
    "total_length = 0\n",
    "res = primMST(startNote, adj_dict, visited, pathlength_dict, total_length)\n"
   ]
  },
  {
   "cell_type": "code",
   "execution_count": 133,
   "metadata": {},
   "outputs": [
    {
     "data": {
      "text/plain": [
       "-3612829"
      ]
     },
     "execution_count": 133,
     "metadata": {},
     "output_type": "execute_result"
    }
   ],
   "source": [
    "res"
   ]
  },
  {
   "cell_type": "code",
   "execution_count": 130,
   "metadata": {},
   "outputs": [],
   "source": [
    "adj_dict_simple = {1:{2:6, 4:1},\n",
    "            2:{1:6, 5:2, 3:5},\n",
    "            3:{2:5, 5:5},\n",
    "            4:{1:1,5:1, 2:2},\n",
    "            5:{2:2, 3:5, 4:1}}"
   ]
  },
  {
   "cell_type": "code",
   "execution_count": 131,
   "metadata": {},
   "outputs": [
    {
     "data": {
      "text/plain": [
       "9"
      ]
     },
     "execution_count": 131,
     "metadata": {},
     "output_type": "execute_result"
    }
   ],
   "source": [
    "startNote = 1\n",
    "visited = []\n",
    "pathlength_dict = {}\n",
    "total_length = 0\n",
    "res = primMST(startNote, adj_dict_simple, visited, pathlength_dict, total_length)\n",
    "res"
   ]
  },
  {
   "cell_type": "code",
   "execution_count": 98,
   "metadata": {},
   "outputs": [
    {
     "data": {
      "text/plain": [
       "True"
      ]
     },
     "execution_count": 98,
     "metadata": {},
     "output_type": "execute_result"
    }
   ],
   "source": [
    "not ll"
   ]
  },
  {
   "cell_type": "code",
   "execution_count": null,
   "metadata": {},
   "outputs": [],
   "source": []
  }
 ],
 "metadata": {
  "kernelspec": {
   "display_name": "Python 3",
   "language": "python",
   "name": "python3"
  },
  "language_info": {
   "codemirror_mode": {
    "name": "ipython",
    "version": 3
   },
   "file_extension": ".py",
   "mimetype": "text/x-python",
   "name": "python",
   "nbconvert_exporter": "python",
   "pygments_lexer": "ipython3",
   "version": "3.7.5"
  }
 },
 "nbformat": 4,
 "nbformat_minor": 4
}
