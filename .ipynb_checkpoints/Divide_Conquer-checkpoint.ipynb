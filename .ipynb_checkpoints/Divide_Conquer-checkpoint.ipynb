{
 "cells": [
  {
   "cell_type": "markdown",
   "metadata": {},
   "source": [
    "## The divide and conquer paradigm"
   ]
  },
  {
   "cell_type": "markdown",
   "metadata": {},
   "source": [
    "1. Divide into smaller subproblems\n",
    "2. conquer via recursive calls\n",
    "3. combine solutions of subproblems into one for the original problems"
   ]
  },
  {
   "cell_type": "markdown",
   "metadata": {},
   "source": [
    "## Example\n",
    "Input: array A containing the numbers 1, 2,..., n in arbitrary order\n",
    "\n",
    "Output: number of inversion (which can be a measure of the dissimilarity of two ranking)"
   ]
  },
  {
   "cell_type": "markdown",
   "metadata": {},
   "source": [
    "#### Key idea 1:\n",
    "call an inversion (i, j) with $i< j$\n",
    "\n",
    "- left: $i, j <= n/2$ (recursive)\n",
    "- right: $i, j > n/2$ (recersive)\n",
    "- split: $i <= n/2, j > n/2$ (the residual work)"
   ]
  },
  {
   "cell_type": "markdown",
   "metadata": {},
   "source": [
    "#### Key idea 2: Piggybacking on Merge Sort\n",
    "have recursive calls both count inversions and sort\n",
    "\n",
    "Motivation: merge subroutine almost seems designed to count the number of split inversions.\n",
    "\n",
    "**EG**\n",
    "\n",
    "left B =[1, 3, 5], right C = [2, 4, 6]\n",
    "\n",
    "1. output: 1\n",
    "2. output: 1, 2 => (3, 2) and (5, 2) two inversions\n",
    "3. output: 1, 2, 3\n",
    "4. output: 1, 2, 3, 4 => (5, 4) inversion\n",
    "\n",
    "**Cliam**: the split inversions involving an element y of the 2nd array C are precisely the numbers left in the 1st array B when y is copied to output D. The running time for count split recursion is O(m)."
   ]
  },
  {
   "cell_type": "markdown",
   "metadata": {},
   "source": [
    "## Strassen's Subcubic Matrix Multiplication Algorithm"
   ]
  },
  {
   "cell_type": "markdown",
   "metadata": {},
   "source": [
    "**Idea:**"
   ]
  },
  {
   "cell_type": "code",
   "execution_count": 20,
   "metadata": {},
   "outputs": [
    {
     "data": {
      "text/html": [
       "<script>\n",
       "code_show=true; \n",
       "function code_toggle() {\n",
       " if (code_show){\n",
       " $('div.input').hide();\n",
       " } else {\n",
       " $('div.input').show();\n",
       " }\n",
       " code_show = !code_show\n",
       "} \n",
       "$( document ).ready(code_toggle);\n",
       "</script>\n",
       "<form action=\"javascript:code_toggle()\"><input type=\"submit\" value=\"Click here to toggle on/off the raw code.\"></form>"
      ],
      "text/plain": [
       "<IPython.core.display.HTML object>"
      ]
     },
     "execution_count": 20,
     "metadata": {},
     "output_type": "execute_result"
    }
   ],
   "source": [
    "from IPython.display import HTML\n",
    "\n",
    "HTML('''<script>\n",
    "code_show=true; \n",
    "function code_toggle() {\n",
    " if (code_show){\n",
    " $('div.input').hide();\n",
    " } else {\n",
    " $('div.input').show();\n",
    " }\n",
    " code_show = !code_show\n",
    "} \n",
    "$( document ).ready(code_toggle);\n",
    "</script>\n",
    "<form action=\"javascript:code_toggle()\"><input type=\"submit\" value=\"Click here to toggle on/off the raw code.\"></form>''')"
   ]
  },
  {
   "cell_type": "code",
   "execution_count": 22,
   "metadata": {},
   "outputs": [
    {
     "ename": "SyntaxError",
     "evalue": "invalid syntax (<ipython-input-22-750a8a59e197>, line 18)",
     "output_type": "error",
     "traceback": [
      "\u001b[0;36m  File \u001b[0;32m\"<ipython-input-22-750a8a59e197>\"\u001b[0;36m, line \u001b[0;32m18\u001b[0m\n\u001b[0;31m    write $$X =\\left(\\begin{array}{ccc}\u001b[0m\n\u001b[0m          ^\u001b[0m\n\u001b[0;31mSyntaxError\u001b[0m\u001b[0;31m:\u001b[0m invalid syntax\n"
     ]
    }
   ],
   "source": [
    "\n",
    "%%latex\n",
    "write $$X =\\left(\\begin{array}{ccc}\n",
    "A &\\vdots&B \\\\\n",
    "\\ldots &\\ldots&\\ldots \\\\ \n",
    "C &\\vdots& D\\\\                 \n",
    "\\end{array}\\right)\n",
    "\\text{ and } Y = \\left(\\begin{array}{ccc}\n",
    "E &\\vdots& F \\\\\n",
    "\\ldots &\\ldots&\\ldots \\\\ \n",
    "G &\\vdots& H\\\\                 \n",
    "\\end{array}\\right) \\text{ then } X\\cdot Y = \\left(\\begin{array}{ccc}\n",
    "AE+BG &\\vdots&AF+BH \\\\\n",
    "\\ldots &\\ldots&\\ldots \\\\ \n",
    "CE+DG&\\vdots& CF+DH\\\\                 \n",
    "\\end{array}\\right)$$"
   ]
  },
  {
   "cell_type": "code",
   "execution_count": null,
   "metadata": {},
   "outputs": [],
   "source": []
  }
 ],
 "metadata": {
  "kernelspec": {
   "display_name": "Python 3",
   "language": "python",
   "name": "python3"
  },
  "language_info": {
   "codemirror_mode": {
    "name": "ipython",
    "version": 3
   },
   "file_extension": ".py",
   "mimetype": "text/x-python",
   "name": "python",
   "nbconvert_exporter": "python",
   "pygments_lexer": "ipython3",
   "version": "3.7.3"
  }
 },
 "nbformat": 4,
 "nbformat_minor": 4
}
