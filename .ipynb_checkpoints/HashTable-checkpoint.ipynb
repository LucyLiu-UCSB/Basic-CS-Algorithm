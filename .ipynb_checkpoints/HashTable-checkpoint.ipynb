{
 "cells": [
  {
   "cell_type": "markdown",
   "metadata": {},
   "source": [
    "## Application: \n",
    "speed up repeatly look up questions\n",
    "### 1.De-Duplication\n",
    "Given: a 'steam' of objects\n",
    "\n",
    "Goal: remove duplicates\n",
    "- report unique visitors to webwise\n",
    "- avoid deplication in search results.\n",
    "\n",
    "Solution: when new object x arrives\n",
    "- look up x in hash table\n",
    "- if not found, insert x into H\n",
    "\n",
    "### 2. the 2-sum problem\n",
    "\n",
    "Input: unsorted array A of n integers, target sum t\n",
    "\n",
    "Goal: determine whether or not there are two numbers x, y in A with x + y = t\n",
    "\n",
    "Solution:\n",
    "- insert element of A (O(n))\n",
    "- for each x in A, look up into hash table H, t -x in H (O(n))"
   ]
  },
  {
   "cell_type": "code",
   "execution_count": null,
   "metadata": {},
   "outputs": [],
   "source": []
  }
 ],
 "metadata": {
  "kernelspec": {
   "display_name": "Python 3",
   "language": "python",
   "name": "python3"
  },
  "language_info": {
   "codemirror_mode": {
    "name": "ipython",
    "version": 3
   },
   "file_extension": ".py",
   "mimetype": "text/x-python",
   "name": "python",
   "nbconvert_exporter": "python",
   "pygments_lexer": "ipython3",
   "version": "3.7.3"
  }
 },
 "nbformat": 4,
 "nbformat_minor": 4
}
