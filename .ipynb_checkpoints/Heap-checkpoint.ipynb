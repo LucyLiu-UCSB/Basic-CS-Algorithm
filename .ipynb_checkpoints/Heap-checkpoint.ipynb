{
 "cells": [
  {
   "cell_type": "markdown",
   "metadata": {},
   "source": [
    "## Supported Operations\n",
    "\n",
    "Insert: add a new object to a heap - running time O(logn)\n",
    "\n",
    "Extract-min: remove an object in heap with a minimum key value O(logn)\n",
    "\n",
    "Als0: heapity, n batch inserts in O(n) time\n",
    "\n",
    "Delete: O(log n)"
   ]
  },
  {
   "cell_type": "markdown",
   "metadata": {},
   "source": [
    "## Application: Soring\n",
    "\n",
    "canonical use of heap: fast way to do repeat minimum computations\n",
    "\n",
    "example: selection sort = $O(n^2)$ running time\n",
    "\n",
    "HeapSort: \n",
    "- insert all n array elements into a heap\n",
    "- extract-min to pluck at elements in sorted order\n",
    "\n",
    "Runningtime = 2n keap operations = O(nlogn) time"
   ]
  },
  {
   "cell_type": "markdown",
   "metadata": {},
   "source": [
    "## Application: Event Manager\n"
   ]
  }
 ],
 "metadata": {
  "kernelspec": {
   "display_name": "Python 3",
   "language": "python",
   "name": "python3"
  },
  "language_info": {
   "codemirror_mode": {
    "name": "ipython",
    "version": 3
   },
   "file_extension": ".py",
   "mimetype": "text/x-python",
   "name": "python",
   "nbconvert_exporter": "python",
   "pygments_lexer": "ipython3",
   "version": "3.7.3"
  }
 },
 "nbformat": 4,
 "nbformat_minor": 4
}
