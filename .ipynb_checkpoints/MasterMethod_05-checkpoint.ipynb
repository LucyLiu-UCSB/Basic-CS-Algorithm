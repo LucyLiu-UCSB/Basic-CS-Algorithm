{
 "cells": [
  {
   "cell_type": "markdown",
   "metadata": {},
   "source": [
    "**Assumption of master method:** all subproblems have the same size."
   ]
  },
  {
   "cell_type": "markdown",
   "metadata": {},
   "source": [
    "Recurrent format:\n",
    "1. Base case: T(n) <= a constant for all sufficiently small n\n",
    "2. For all large $n$:\n",
    "$$T(n)\\leq aT\\left(\\frac{n}{b}\\right) + O(n^d),$$\n",
    "where\n",
    " * a = number of recursive calls(>=1)\n",
    " * b = input size shrinkage factor(>1)\n",
    " * d = exponent in running time of 'combine step' (>=0)\n",
    " * a, b, d independent of n\n",
    "\n",
    "\n",
    "\n",
    " **T(n) =**\n",
    "1. if $ a = b^d, O(n^d\\log n)$\n",
    "2. if $ a < b^d, O(n^d)$\n",
    "3. if $ a > b^d, O(n^{log_b a})$"
   ]
  },
  {
   "cell_type": "markdown",
   "metadata": {},
   "source": [
    "## Examples"
   ]
  },
  {
   "cell_type": "markdown",
   "metadata": {},
   "source": [
    "### 1. Merge Sort\n",
    "a = b = 2, d = 1 => case 1 O(nlog n)\n",
    "### 2. Binary search\n",
    "a = 1, b = 2, d = 0 => case 1 O(log n)\n",
    "### 3. split multipilication\n",
    "a = 4, b = 2, d = 1 => case 3 $O(n^{log_2 4}) = O(n^2)$\n",
    "### Cau's trick\n",
    "a = 3, b = 2, d = 1=> case 3 $O(n^{log_2 3}) < O(n^2)$\n",
    "### Strassen's matrix multiplication\n",
    "a = 7, b = 2, d = 2 => case3 $O(n^{log_2 7}) \\sim O(n^{2.81})$\n",
    "### Ficitious recurence\n",
    "$$T(n)<= 2T(n/2) + O(n^2)$$\n",
    "$$T(n) = O(n^2)$$"
   ]
  },
  {
   "cell_type": "code",
   "execution_count": null,
   "metadata": {},
   "outputs": [],
   "source": []
  },
  {
   "cell_type": "code",
   "execution_count": null,
   "metadata": {},
   "outputs": [],
   "source": []
  },
  {
   "cell_type": "code",
   "execution_count": null,
   "metadata": {},
   "outputs": [],
   "source": []
  },
  {
   "cell_type": "code",
   "execution_count": null,
   "metadata": {},
   "outputs": [],
   "source": []
  }
 ],
 "metadata": {
  "kernelspec": {
   "display_name": "Python 3",
   "language": "python",
   "name": "python3"
  },
  "language_info": {
   "codemirror_mode": {
    "name": "ipython",
    "version": 3
   },
   "file_extension": ".py",
   "mimetype": "text/x-python",
   "name": "python",
   "nbconvert_exporter": "python",
   "pygments_lexer": "ipython3",
   "version": "3.7.3"
  }
 },
 "nbformat": 4,
 "nbformat_minor": 4
}
