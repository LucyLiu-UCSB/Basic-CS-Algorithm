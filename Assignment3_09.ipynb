{
 "cells": [
  {
   "cell_type": "code",
   "execution_count": 1,
   "metadata": {},
   "outputs": [],
   "source": [
    "with open('kargerMinCut.txt') as f:\n",
    "    lines = f.readlines()"
   ]
  },
  {
   "cell_type": "code",
   "execution_count": 2,
   "metadata": {},
   "outputs": [],
   "source": [
    "gh = {}\n",
    "for line in lines:\n",
    "    linesp = line.strip().split(maxsplit = 1)\n",
    "    key = int(linesp[0])\n",
    "    value = [int(i) for i in linesp[1].split()]\n",
    "    gh[key] = value"
   ]
  },
  {
   "cell_type": "code",
   "execution_count": 6,
   "metadata": {},
   "outputs": [],
   "source": [
    "import numpy as np"
   ]
  },
  {
   "cell_type": "code",
   "execution_count": 3,
   "metadata": {},
   "outputs": [],
   "source": [
    "def kargerMinCut(graph):\n",
    "\n",
    "    while len(graph) > 2:\n",
    "        \n",
    "        key1 = np.random.choice(list(graph.keys()), size = 1)[0]\n",
    "        key2 = np.random.choice(graph[key1], size = 1)[0]\n",
    "        #print(key2)\n",
    "        #key111.append(key1)\n",
    "        #key222.append(key2)\n",
    "        i = 0\n",
    "        while i < len(graph[key1]):\n",
    "            if graph[key1][i] == key2: graph[key1].remove(key2)\n",
    "            else: i = i + 1\n",
    "        \n",
    "        # merge the second into the first vertex\n",
    "        for vertex in graph[key2]:\n",
    "            #print(vertex)\n",
    "            if vertex!= key1 and vertex!= key2:\n",
    "                # first append the edge of key2 to key1\n",
    "                graph[key1].append(vertex)\n",
    "                # change the related knots values\n",
    "                for n, i in enumerate(graph[vertex]):\n",
    "                    if i == key2: \n",
    "                        graph[vertex][n] = key1\n",
    "        del graph[key2] \n",
    "    key1 = np.random.choice(list(graph.keys()), size = 1)[0]  \n",
    "    return len(graph[key1])\n",
    "\n",
    "        "
   ]
  },
  {
   "cell_type": "code",
   "execution_count": 4,
   "metadata": {},
   "outputs": [],
   "source": [
    "import copy"
   ]
  },
  {
   "cell_type": "code",
   "execution_count": 13,
   "metadata": {},
   "outputs": [
    {
     "data": {
      "text/plain": [
       "17"
      ]
     },
     "execution_count": 13,
     "metadata": {},
     "output_type": "execute_result"
    }
   ],
   "source": [
    "length = []\n",
    "for i in range(2000):\n",
    "    graph = copy.deepcopy(gh)\n",
    "    length.append(kargerMinCut(graph))\n",
    "min(length)"
   ]
  }
 ],
 "metadata": {
  "kernelspec": {
   "display_name": "Python 3",
   "language": "python",
   "name": "python3"
  },
  "language_info": {
   "codemirror_mode": {
    "name": "ipython",
    "version": 3
   },
   "file_extension": ".py",
   "mimetype": "text/x-python",
   "name": "python",
   "nbconvert_exporter": "python",
   "pygments_lexer": "ipython3",
   "version": "3.7.3"
  }
 },
 "nbformat": 4,
 "nbformat_minor": 4
}
