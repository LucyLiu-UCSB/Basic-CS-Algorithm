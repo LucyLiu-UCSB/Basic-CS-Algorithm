{
 "cells": [
  {
   "cell_type": "markdown",
   "metadata": {},
   "source": [
    "## Weighted Independent Sets problem"
   ]
  },
  {
   "cell_type": "code",
   "execution_count": 13,
   "metadata": {},
   "outputs": [],
   "source": [
    "def weightedIndependentSet(arr):\n",
    "    if len(arr) == 0: return 0\n",
    "    elif len(arr) <= 2: return max(arr)\n",
    "    else:\n",
    "        A = [arr[0], max(arr[0:2])]\n",
    "        for i in range(2, len(arr)):\n",
    "            A.append(max(A[i-1], A[i-2] + arr[i]))\n",
    "    return A[-1]"
   ]
  },
  {
   "cell_type": "code",
   "execution_count": 17,
   "metadata": {},
   "outputs": [
    {
     "data": {
      "text/plain": [
       "21"
      ]
     },
     "execution_count": 17,
     "metadata": {},
     "output_type": "execute_result"
    }
   ],
   "source": [
    "arr = [1, 3, 6, 8, 1, 5, 10]\n",
    "weightedIndependentSet(arr)"
   ]
  },
  {
   "cell_type": "markdown",
   "metadata": {},
   "source": [
    "## Knapsack Problem"
   ]
  },
  {
   "cell_type": "code",
   "execution_count": 68,
   "metadata": {},
   "outputs": [],
   "source": [
    "with open('knapsack1.txt') as f:\n",
    "    lines = f.readlines()\n",
    "    \n",
    "weights = []\n",
    "values = []\n",
    "\n",
    "for line in lines:\n",
    "    linesp = line.strip().split(maxsplit = 1)\n",
    "    weights.append(int(linesp[1]))\n",
    "    values.append(int(linesp[0]))"
   ]
  },
  {
   "cell_type": "code",
   "execution_count": 69,
   "metadata": {},
   "outputs": [],
   "source": [
    "capacity = values.pop(0)"
   ]
  },
  {
   "cell_type": "code",
   "execution_count": 71,
   "metadata": {},
   "outputs": [
    {
     "data": {
      "text/plain": [
       "10000"
      ]
     },
     "execution_count": 71,
     "metadata": {},
     "output_type": "execute_result"
    }
   ],
   "source": [
    "capacity"
   ]
  },
  {
   "cell_type": "code",
   "execution_count": 70,
   "metadata": {},
   "outputs": [],
   "source": [
    "num = weights.pop(0)"
   ]
  },
  {
   "cell_type": "code",
   "execution_count": 72,
   "metadata": {},
   "outputs": [
    {
     "data": {
      "text/plain": [
       "100"
      ]
     },
     "execution_count": 72,
     "metadata": {},
     "output_type": "execute_result"
    }
   ],
   "source": [
    "num"
   ]
  },
  {
   "cell_type": "code",
   "execution_count": 87,
   "metadata": {},
   "outputs": [],
   "source": [
    "import numpy as np\n",
    "def knapsack1(capacity, weights, values):\n",
    "    if len(values) == 0 or capacity <= 0: return 0\n",
    "    else:\n",
    "        arr = np.zeros(shape = (len(values) + 1, capacity + 1))\n",
    "        for i in range(1, len(values) + 1):\n",
    "            for x in range(1, capacity + 1):\n",
    "                case2 = arr[i-1, x - weights[i-1]] + values[i-1] if x - weights[i-1] >= 0 else 0\n",
    "                arr[i, x] = max(arr[i-1, x], case2)\n",
    "    return arr[-1, -1]  "
   ]
  },
  {
   "cell_type": "code",
   "execution_count": 88,
   "metadata": {},
   "outputs": [],
   "source": [
    "smallCap = 6\n",
    "smallWei = [4, 3, 2, 3]\n",
    "smallVal = [3, 2, 4, 4]"
   ]
  },
  {
   "cell_type": "code",
   "execution_count": 89,
   "metadata": {},
   "outputs": [
    {
     "data": {
      "text/plain": [
       "8.0"
      ]
     },
     "execution_count": 89,
     "metadata": {},
     "output_type": "execute_result"
    }
   ],
   "source": [
    "knapsack1(smallCap, smallWei, smallVal)"
   ]
  },
  {
   "cell_type": "code",
   "execution_count": 90,
   "metadata": {},
   "outputs": [
    {
     "data": {
      "text/plain": [
       "2493893.0"
      ]
     },
     "execution_count": 90,
     "metadata": {},
     "output_type": "execute_result"
    }
   ],
   "source": [
    "knapsack1(capacity, weights, values)"
   ]
  },
  {
   "cell_type": "markdown",
   "metadata": {},
   "source": [
    "## Sequence Alignment"
   ]
  },
  {
   "cell_type": "code",
   "execution_count": 124,
   "metadata": {},
   "outputs": [],
   "source": [
    "import numpy as np\n",
    "def NeedlemanWunsch(seq1, seq2, alpha_g, alpha_m, alpha_no):\n",
    "    if len(seq1) == 0 and len(seq2) == 0: return 0\n",
    "    else:\n",
    "        arr = np.zeros(shape = (len(seq1) + 1, len(seq2) + 1))\n",
    "        arr[:, 0] = np.arange(len(seq1) + 1)*alpha_g\n",
    "        arr[0, :] = np.arange(len(seq2) + 1)*alpha_g\n",
    "        for i in range(1, len(seq1) + 1):\n",
    "            for j in range(1, len(seq2) + 1):\n",
    "                case1 = alpha_m if seq1[i-1] == seq2[j-1] else alpha_no\n",
    "                arr[i, j] = max(arr[i-1, j-1] + case1,\n",
    "                               arr[i-1, j] + alpha_g,\n",
    "                               arr[i, j-1] + alpha_g)\n",
    "    return arr"
   ]
  },
  {
   "cell_type": "code",
   "execution_count": 125,
   "metadata": {},
   "outputs": [],
   "source": [
    "seq1 = ['A', 'T', 'G', 'G', 'C', 'C', 'T', 'C']\n",
    "seq2 = ['A', 'C', 'G', 'G', 'C', 'T', 'C']\n",
    "alpha_g = -4\n",
    "alpha_m = 1\n",
    "alpha_no = -3"
   ]
  },
  {
   "cell_type": "code",
   "execution_count": 126,
   "metadata": {},
   "outputs": [
    {
     "data": {
      "text/plain": [
       "array([[  0.,  -4.,  -8., -12., -16., -20., -24., -28.],\n",
       "       [ -4.,   1.,  -3.,  -7., -11., -15., -19., -23.],\n",
       "       [ -8.,  -3.,  -2.,  -6., -10., -14., -14., -18.],\n",
       "       [-12.,  -7.,  -6.,  -1.,  -5.,  -9., -13., -17.],\n",
       "       [-16., -11., -10.,  -5.,   0.,  -4.,  -8., -12.],\n",
       "       [-20., -15., -10.,  -9.,  -4.,   1.,  -3.,  -7.],\n",
       "       [-24., -19., -14., -13.,  -8.,  -3.,  -2.,  -2.],\n",
       "       [-28., -23., -18., -17., -12.,  -7.,  -2.,  -5.],\n",
       "       [-32., -27., -22., -21., -16., -11.,  -6.,  -1.]])"
      ]
     },
     "execution_count": 126,
     "metadata": {},
     "output_type": "execute_result"
    }
   ],
   "source": [
    "NeedlemanWunsch(seq1, seq2, alpha_g, alpha_m, alpha_no)"
   ]
  }
 ],
 "metadata": {
  "kernelspec": {
   "display_name": "Python 3",
   "language": "python",
   "name": "python3"
  },
  "language_info": {
   "codemirror_mode": {
    "name": "ipython",
    "version": 3
   },
   "file_extension": ".py",
   "mimetype": "text/x-python",
   "name": "python",
   "nbconvert_exporter": "python",
   "pygments_lexer": "ipython3",
   "version": "3.7.3"
  }
 },
 "nbformat": 4,
 "nbformat_minor": 4
}
