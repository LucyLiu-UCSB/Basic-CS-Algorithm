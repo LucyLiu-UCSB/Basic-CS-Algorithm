{
 "cells": [
  {
   "cell_type": "markdown",
   "metadata": {},
   "source": [
    "## Examples"
   ]
  },
  {
   "cell_type": "markdown",
   "metadata": {},
   "source": [
    "#### One loop\n",
    "\n",
    "Problem: does array A contain the integer t? given A of length n and t, an integer.\n",
    "\n",
    "for i = 1 to t:\n",
    "    if A[i] == t, return TRUE\n",
    "return FALSE\n",
    "\n",
    "The running time is 0(n)."
   ]
  },
  {
   "cell_type": "markdown",
   "metadata": {},
   "source": [
    "#### Two loops\n",
    "\n",
    "Problem: Given A and B, length of n, does A or B contain t?\n",
    "\n",
    "The running time is O(n)."
   ]
  },
  {
   "cell_type": "markdown",
   "metadata": {},
   "source": [
    "#### Two Nested loops\n",
    "Problem: do arrays A, B have a number in common?\n",
    "\n",
    "for i = 1 to n:\n",
    "\n",
    "    for j = 1 to n:\n",
    "    \n",
    "        if $A[i] = B[j]$ return TRUE\n",
    "        \n",
    "return FALSE\n",
    "\n",
    "The runing time is $O(n^2)$."
   ]
  },
  {
   "cell_type": "markdown",
   "metadata": {},
   "source": [
    "#### Two nested loops, one array\n",
    "Problem: given array A of length n\n",
    "\n",
    "for i = 1 to n:\n",
    "\n",
    "    for j = i + 1 to n:\n",
    "    \n",
    "          if $A[i] == A[j] return TRUE\n",
    "\n",
    "return FALSE\n",
    "\n",
    "The running time is $O(n^2)$."
   ]
  },
  {
   "cell_type": "code",
   "execution_count": null,
   "metadata": {},
   "outputs": [],
   "source": []
  }
 ],
 "metadata": {
  "kernelspec": {
   "display_name": "Python 3",
   "language": "python",
   "name": "python3"
  },
  "language_info": {
   "codemirror_mode": {
    "name": "ipython",
    "version": 3
   },
   "file_extension": ".py",
   "mimetype": "text/x-python",
   "name": "python",
   "nbconvert_exporter": "python",
   "pygments_lexer": "ipython3",
   "version": "3.7.3"
  }
 },
 "nbformat": 4,
 "nbformat_minor": 4
}
