{
 "cells": [
  {
   "cell_type": "markdown",
   "metadata": {},
   "source": [
    "## The divide and conquer paradigm"
   ]
  },
  {
   "cell_type": "markdown",
   "metadata": {},
   "source": [
    "1. Divide into smaller subproblems\n",
    "2. conquer via recursive calls\n",
    "3. combine solutions of subproblems into one for the original problems"
   ]
  },
  {
   "cell_type": "markdown",
   "metadata": {},
   "source": [
    "## Example\n",
    "Input: array A containing the numbers 1, 2,..., n in arbitrary order\n",
    "\n",
    "Output: number of inversion (which can be a measure of the dissimilarity of two ranking)"
   ]
  },
  {
   "cell_type": "markdown",
   "metadata": {},
   "source": [
    "#### Key idea 1:\n",
    "call an inversion (i, j) with $i< j$\n",
    "\n",
    "- left: $i, j <= n/2$ (recursive)\n",
    "- right: $i, j > n/2$ (recersive)\n",
    "- split: $i <= n/2, j > n/2$ (the residual work)"
   ]
  },
  {
   "cell_type": "markdown",
   "metadata": {},
   "source": [
    "#### Key idea 2: Piggybacking on Merge Sort\n",
    "have recursive calls both count inversions and sort\n",
    "\n",
    "Motivation: merge subroutine almost seems designed to count the number of split inversions.\n",
    "\n",
    "**EG**\n",
    "\n",
    "left B =[1, 3, 5], right C = [2, 4, 6]\n",
    "\n",
    "1. output: 1\n",
    "2. output: 1, 2 => (3, 2) and (5, 2) two inversions\n",
    "3. output: 1, 2, 3\n",
    "4. output: 1, 2, 3, 4 => (5, 4) inversion\n",
    "\n",
    "**Cliam**: the split inversions involving an element y of the 2nd array C are precisely the numbers left in the 1st array B when y is copied to output D. The running time for count split recursion is O(m)."
   ]
  },
  {
   "cell_type": "markdown",
   "metadata": {},
   "source": [
    "## Strassen's Subcubic Matrix Multiplication Algorithm"
   ]
  },
  {
   "cell_type": "markdown",
   "metadata": {},
   "source": [
    "**Idea:**"
   ]
  },
  {
   "cell_type": "markdown",
   "metadata": {},
   "source": [
    "write $$X =\\left(\\begin{array}{ccc}\n",
    "A &\\vdots&B \\\\\n",
    "\\ldots &\\ldots&\\ldots \\\\ \n",
    "C &\\vdots& D\\\\                 \n",
    "\\end{array}\\right)\n",
    "\\text{ and } Y = \\left(\\begin{array}{ccc}\n",
    "E &\\vdots& F \\\\\n",
    "\\ldots &\\ldots&\\ldots \\\\ \n",
    "G &\\vdots& H\\\\                 \n",
    "\\end{array}\\right) \\text{ then } X\\cdot Y = \\left(\\begin{array}{ccc}\n",
    "AE+BG &\\vdots&AF+BH \\\\\n",
    "\\ldots &\\ldots&\\ldots \\\\ \n",
    "CE+DG&\\vdots& CF+DH\\\\                 \n",
    "\\end{array}\\right)$$\n",
    "\n",
    "- step 1: recursively compute the 0 necessary products\n",
    "- step 2: do the necessary additions O($n^2$, linear in the number of elements in one matrix)\n",
    "\n",
    "**Fact:** runtime is O($n^3$)."
   ]
  },
  {
   "cell_type": "markdown",
   "metadata": {},
   "source": [
    "## Strassen's algorithm(1969)\n",
    "\n",
    "- step 1: recursively compute only 7 (cleverly chosen) products, [Wiki details](https://en.wikipedia.org/wiki/Strassen_algorithm) \n",
    "- step 2: do the necessaey clever addtions + substrctions (still O($n^2$) time).\n",
    "\n",
    "**Fact:** better than the cubic time!\n",
    "\n"
   ]
  },
  {
   "cell_type": "markdown",
   "metadata": {},
   "source": [
    "## O(nlogn) closet pair\n",
    "Input: a set $p = \\{p_1, ..., p_n\\}$ of n inputs i the plane $R^2$.\n",
    "\n",
    "Output: identify a pair $(p^*, q^*)$ of dinstint points that minimize distance $d(p, q)$. \n",
    "\n",
    "Notation: $d(p_i, p_j)$= Eculidean distrance."
   ]
  },
  {
   "cell_type": "markdown",
   "metadata": {},
   "source": [
    "#### High-level approach\n",
    "\n",
    "First form sorted array(preprocessing) X, by x-asix ,  and Y , by y-axis, (nlogn time)\n",
    "\n",
    "- step1: let Q = left half of P, R = right half of P form the sorted $Q_x, Q_y, R_x, R_y $\n",
    "- step2: $(p_1, q_1)$ = closet pair $(Q_x, Q_y)$\n",
    "- step3: $(p_2, q_2)$ = closet pair $(R_x, R_y)$\n",
    "- step4: let $\\delta = \\min\\{d(p_1, q_1), d(p_2, q_2) \\}$\n",
    "- step5: $(p_3, q_3)$ = closet split pair $(P_x, P_y, \\delta)$\n",
    "- step6: return best of $(p_1, q_1), (p_2, q_2), (p_3, q_3)$\n",
    "\n",
    "\n",
    "Requirements:\n",
    "* step5 is O(n) time\n",
    "* corrent whenever cloest pair of P is a split pair\n",
    "\n",
    "#### Closet split pair $(P_x, P_y, \\delta)$\n",
    "\n",
    "let $\\bar{x}$ = biggest x-coordinate in the left of P\n",
    "\n",
    "let $S_y$ = points of P with x-coordinate in $[\\bar{x} - \\delta, \\bar{x} + \\delta]$, sorted by y-coordinate.\n",
    "\n",
    "**How to scan through $S_y$ ?**\n",
    "\n",
    "Initilize beta = $\\delta$, best pair = null\n",
    "- for i = 1 to $|S_y| - 1$\n",
    "  * for j = 1 to min{7, |S_y| - i}\n",
    "     * let p, q = ith, (i+j)the points of $S_y$\n",
    "     * if d(p, q) < best, best pair = (p, q)\n",
    "  "
   ]
  },
  {
   "cell_type": "code",
   "execution_count": null,
   "metadata": {},
   "outputs": [],
   "source": []
  }
 ],
 "metadata": {
  "kernelspec": {
   "display_name": "Python 3",
   "language": "python",
   "name": "python3"
  },
  "language_info": {
   "codemirror_mode": {
    "name": "ipython",
    "version": 3
   },
   "file_extension": ".py",
   "mimetype": "text/x-python",
   "name": "python",
   "nbconvert_exporter": "python",
   "pygments_lexer": "ipython3",
   "version": "3.7.3"
  }
 },
 "nbformat": 4,
 "nbformat_minor": 4
}
