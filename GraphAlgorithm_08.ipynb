{
 "cells": [
  {
   "cell_type": "markdown",
   "metadata": {},
   "source": [
    "## Graphs\n",
    "Two ingredict:\n",
    "- vertices aka nodes V\n",
    "- edges E = pairs of vertices\n",
    "\n",
    "## Cuts of Graphs"
   ]
  },
  {
   "cell_type": "markdown",
   "metadata": {},
   "source": [
    "### The minimum cut problem\n",
    "Input: an undirected graph G = (V, E), parallel edges allowed\n",
    " \n",
    "Goal: compute a cut with fewest number of crossing edges"
   ]
  },
  {
   "cell_type": "markdown",
   "metadata": {},
   "source": [
    "## Adjacency Lists\n",
    "Ingradients:\n",
    "- array(list) of vertices: $\\theta(n)$\n",
    "- array(list) of edges: $\\theta(m)$\n",
    "- each edge points to its endpoints $\\theta(m)$\n",
    "- each vertex points to edges incident on it $\\theta(m)$"
   ]
  },
  {
   "cell_type": "markdown",
   "metadata": {},
   "source": [
    "## random contraction algorithm"
   ]
  },
  {
   "cell_type": "code",
   "execution_count": null,
   "metadata": {},
   "outputs": [],
   "source": []
  }
 ],
 "metadata": {
  "kernelspec": {
   "display_name": "Python 3",
   "language": "python",
   "name": "python3"
  },
  "language_info": {
   "codemirror_mode": {
    "name": "ipython",
    "version": 3
   },
   "file_extension": ".py",
   "mimetype": "text/x-python",
   "name": "python",
   "nbconvert_exporter": "python",
   "pygments_lexer": "ipython3",
   "version": "3.7.3"
  }
 },
 "nbformat": 4,
 "nbformat_minor": 4
}
