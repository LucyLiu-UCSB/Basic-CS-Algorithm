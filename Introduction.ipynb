{
 "cells": [
  {
   "cell_type": "markdown",
   "metadata": {},
   "source": [
    "## Karatsuba Mutiplication\n",
    "\n",
    "is the first recursive algorithm I learn.\n",
    "\n",
    "Recall: $x = a*10^{n/2} + b, y = c10^{n/2} + d$, $x*y = 10^n ac +10^{n/2}(ad + bc) + bd$\n",
    "\n",
    "- step 1: recursively compute $ac$\n",
    "- step 2: recursively compute $bd$\n",
    "- step 3: recursively compute $(a + b)(c + d)$ and $(a + b)(c + d) - ac - cd$\n",
    "\n",
    "Upshot: only need 3 recursive multiplications and some additions.\n"
   ]
  },
  {
   "cell_type": "markdown",
   "metadata": {},
   "source": [
    "## Merge Sort\n",
    "is a Divide-and-Conquer algorithm.\n",
    "\n",
    "Others include Selection, Insertion, Bubble sorts with $n^2$ complexity."
   ]
  },
  {
   "cell_type": "markdown",
   "metadata": {},
   "source": [
    "Input: array of n numbers, unsorted.\n",
    "\n",
    "\n",
    "\n",
    "output: same number, sorted in increasing order."
   ]
  },
  {
   "cell_type": "markdown",
   "metadata": {},
   "source": [
    "#### step1. divide\n",
    "s0 = [5, 4, 1, 8, 7, 2, 6, 3]\n",
    "s11 = [5, 4, 1, 8]; s12 = [7, 2, 6, 3]\n",
    "\n",
    "#### step2. sort each of the subarray\n",
    "s11sort = [1, 4, 5, 8]; s12sort = [2, 3, 6, 7]\n",
    "\n",
    "#### step3. merge the subarray to the orgianl large array"
   ]
  },
  {
   "cell_type": "markdown",
   "metadata": {},
   "source": [
    "C = output array [length = n]\n",
    "\n",
    "A = 1st sorted array[n/2], i = 1 index of A\n",
    "\n",
    "B = 2nd sorted array[n/2], j = 2 index of B\n",
    "\n",
    "for k = 1 to m:\n",
    "\n",
    "if $A(i)<B(j)$, $C(k) = A(i)$ i++, else $(k) =B(j)$ j++"
   ]
  },
  {
   "cell_type": "markdown",
   "metadata": {},
   "source": [
    "Upshot: running time of Merge on array of m number is $<= 4m+2 <=6m$, since $m >= 1$"
   ]
  },
  {
   "cell_type": "markdown",
   "metadata": {},
   "source": [
    "**Conclusion:** Merge Sort requires *$<=6nlog_2 n + 6n$* operations to sort n numbers.\n",
    "\n",
    "proof. use a recursion tree \n",
    "\n",
    "- level 0:  $\\hspace{0.5cm}$  $\\hspace{1.3cm}$       O -- root, entire input, outer call to merge sort\n",
    "- level 1: $\\hspace{0.5cm}$    $\\hspace{1cm}$     | $\\hspace{0.5cm}$    | -- 1st recursion\n",
    "- level 2:  $\\hspace{1cm}$  |  $\\hspace{0.3cm}$ |  $\\hspace{0.3cm}$ |  $\\hspace{0.3cm}$ |\n",
    "\n",
    "THe recursion tree have $log_2n$ levels. The base note is the single-element array. The recursion tree allows to count up the work, level by level. At each recursion level, there are $2^j$ subproblems, each of size $\\frac{n}{2^j}$.\n",
    "\n",
    "For fixed j, the total computation is $<= 2^j\\times 6\\left(\\frac{n}{2^j}\\right) = 6 n $, which is independent of $j$.\n",
    "\n",
    "Total number of operation is $\\leq 6n(log_2n + 1)$."
   ]
  },
  {
   "cell_type": "markdown",
   "metadata": {},
   "source": [
    "## Guiding principles for analysis of algorithms"
   ]
  },
  {
   "cell_type": "markdown",
   "metadata": {},
   "source": [
    "- worst-case analysis, as opposed to 1. average-case analysis and 2. benchmarks, those two requires domain knowledfe.\n",
    "- won't pay attention to constant factors, lower - order terms.\n",
    " * way easier\n",
    " * constant depend on architecture\n",
    " * lose very little predictive power\n",
    "- Asymptotic analysis: focus on running time for large input size n.\n",
    "\n",
    "Fast Algprithm: worst-case running time grows slowly with input size."
   ]
  },
  {
   "cell_type": "code",
   "execution_count": null,
   "metadata": {},
   "outputs": [],
   "source": []
  }
 ],
 "metadata": {
  "kernelspec": {
   "display_name": "Python 3",
   "language": "python",
   "name": "python3"
  },
  "language_info": {
   "codemirror_mode": {
    "name": "ipython",
    "version": 3
   },
   "file_extension": ".py",
   "mimetype": "text/x-python",
   "name": "python",
   "nbconvert_exporter": "python",
   "pygments_lexer": "ipython3",
   "version": "3.7.3"
  }
 },
 "nbformat": 4,
 "nbformat_minor": 4
}
