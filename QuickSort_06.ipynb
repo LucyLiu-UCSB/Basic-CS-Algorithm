{
 "cells": [
  {
   "cell_type": "markdown",
   "metadata": {},
   "source": [
    "## The sorting problem:##\n",
    "\n",
    "Input: array of n numbers, unsroted\n",
    "\n",
    "Output: same numebrs, sorted "
   ]
  },
  {
   "cell_type": "markdown",
   "metadata": {},
   "source": [
    "## Partitioning around a pivot"
   ]
  },
  {
   "cell_type": "markdown",
   "metadata": {},
   "source": [
    "Key idea: partition array around a pivot element.\n",
    "- pick an element of array [**3**,8,2,5,1,4,7,6]\n",
    "- rearrange array so that\n",
    " * left of pivot => less than pivot\n",
    " * right of pivot => greater than pivot [2, 1, **3**, 6, 7, 4, 5, 8]\n",
    " \n",
    "### two cool facts about partition\n",
    "- linear O(n) time, no extra memory\n",
    "- reduce problems size\n",
    "\n",
    "### Description\n",
    "- if n = 1 return\n",
    "- p = choose pivot(A, n)\n",
    "- partition A around p, [< p, p, > p]\n",
    "- recursively sort left part and right part\n",
    "\n",
    "### the easy way out\n",
    "Note: using O(n) extra memory, easy to partition around pivot in O(n) time\n",
    "\n",
    "Take an addtional array, scan along the array"
   ]
  },
  {
   "cell_type": "code",
   "execution_count": null,
   "metadata": {},
   "outputs": [],
   "source": []
  }
 ],
 "metadata": {
  "kernelspec": {
   "display_name": "Python 3",
   "language": "python",
   "name": "python3"
  },
  "language_info": {
   "codemirror_mode": {
    "name": "ipython",
    "version": 3
   },
   "file_extension": ".py",
   "mimetype": "text/x-python",
   "name": "python",
   "nbconvert_exporter": "python",
   "pygments_lexer": "ipython3",
   "version": "3.7.3"
  }
 },
 "nbformat": 4,
 "nbformat_minor": 4
}
