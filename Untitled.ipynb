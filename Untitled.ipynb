{
 "cells": [
  {
   "cell_type": "code",
   "execution_count": 15,
   "metadata": {},
   "outputs": [],
   "source": [
    "def mergeSortInversion(arr):\n",
    "    \n",
    "    # define base case\n",
    "    if len(arr) == 1:\n",
    "        return arr, 0\n",
    "    else:\n",
    "        # define two sublist\n",
    "        left = arr[:int(len(arr)/2)]\n",
    "        right = arr[int(len(arr)/2):]\n",
    "        \n",
    "        # recursion, return left and right are the sorted sublists\n",
    "        left, leftCount = mergeSortInversion(left)\n",
    "        right, rightCount = mergeSortInversion(right)\n",
    "        \n",
    "\n",
    "        # the sorted list\n",
    "        lsorted = []\n",
    "        \n",
    "        i = 0 # index of left sublist\n",
    "        j = 0 # index of right sublist\n",
    "        inversions = leftCount + rightCount\n",
    "        \n",
    "        while i < len(left) and j < len(right):\n",
    "            if left[i] <= right[j]:\n",
    "                # not an inversion\n",
    "                lsorted.append(left[i])\n",
    "                i = i + 1\n",
    "            else:\n",
    "                # an inversion case\n",
    "                lsorted.append(right[j])\n",
    "                j = j + 1\n",
    "                inversions = inversions + len(left) - i\n",
    "         \n",
    "        # conbime the remaining sublist, note only one of left[i:] and right[j:] is not null\n",
    "        lsorted = lsorted + left[i:]\n",
    "        lsorted = lsorted + right[j:]\n",
    "\n",
    "    return lsorted, inversions "
   ]
  },
  {
   "cell_type": "code",
   "execution_count": 20,
   "metadata": {},
   "outputs": [
    {
     "name": "stdout",
     "output_type": "stream",
     "text": [
      "3\n",
      "2\n",
      "6\n",
      "3\n",
      "9\n",
      "11\n",
      "11\n",
      "10\n",
      "10\n",
      "7\n",
      "17\n",
      "10\n",
      "17\n",
      "14\n",
      "15\n",
      "17\n",
      "14\n",
      "19\n",
      "21\n",
      "15\n"
     ]
    }
   ],
   "source": [
    "import numpy as np\n",
    "\n",
    "mlist = np.arange(1, 11)*10\n",
    "totalCountlist = []\n",
    "\n",
    "for m in mlist:\n",
    "    totalCount = 0\n",
    "    for i in range(2):\n",
    "        arr = np.random.permutation(m)\n",
    "        arrsot, cot = mergeSortInversion(arr)\n",
    "        totalCount = totalCount + cot\n",
    "        print(cot)\n",
    "        aveCount = totalCount/1000\n",
    "    totalCountlist.append(aveCount)"
   ]
  },
  {
   "cell_type": "code",
   "execution_count": 7,
   "metadata": {},
   "outputs": [],
   "source": [
    "arr = np.random.permutation(m)"
   ]
  },
  {
   "cell_type": "code",
   "execution_count": 8,
   "metadata": {},
   "outputs": [
    {
     "data": {
      "text/plain": [
       "array([17, 71, 51, 89,  2, 70, 34, 93, 82, 86, 58, 63, 80, 25, 57, 42, 98,\n",
       "       33,  3, 21, 52, 22, 30,  6, 27, 39, 79, 81, 53, 11, 64, 54, 94, 19,\n",
       "       48, 40, 14, 91, 49, 90, 29, 78, 95, 47, 55, 18, 12, 83, 84, 32, 36,\n",
       "        8,  5, 24, 41, 76, 10, 31, 23, 96, 88, 92, 74,  4, 73, 16,  7,  1,\n",
       "       99, 69, 15, 60, 62, 59, 38, 65, 37, 20, 67, 66, 46, 75, 72, 28, 13,\n",
       "       97,  0,  9, 50, 56, 26, 61, 45, 77, 35, 85, 87, 43, 68, 44])"
      ]
     },
     "execution_count": 8,
     "metadata": {},
     "output_type": "execute_result"
    }
   ],
   "source": [
    "arr"
   ]
  },
  {
   "cell_type": "code",
   "execution_count": 25,
   "metadata": {},
   "outputs": [
    {
     "data": {
      "text/plain": [
       "(array([], dtype=float64), 17)"
      ]
     },
     "execution_count": 25,
     "metadata": {},
     "output_type": "execute_result"
    }
   ],
   "source": [
    "import numpy as np\n",
    "arr = np.random.permutation(m)\n",
    "mergeSortInversion(arr)"
   ]
  },
  {
   "cell_type": "code",
   "execution_count": 22,
   "metadata": {},
   "outputs": [
    {
     "name": "stdout",
     "output_type": "stream",
     "text": [
      "10\n",
      "20\n",
      "30\n",
      "40\n",
      "50\n",
      "60\n",
      "70\n",
      "80\n",
      "90\n",
      "100\n"
     ]
    }
   ],
   "source": [
    "\n",
    "for m in mlist:\n",
    "    print(m)"
   ]
  },
  {
   "cell_type": "code",
   "execution_count": 23,
   "metadata": {},
   "outputs": [
    {
     "data": {
      "text/plain": [
       "100"
      ]
     },
     "execution_count": 23,
     "metadata": {},
     "output_type": "execute_result"
    }
   ],
   "source": [
    "m"
   ]
  },
  {
   "cell_type": "code",
   "execution_count": null,
   "metadata": {},
   "outputs": [],
   "source": []
  }
 ],
 "metadata": {
  "kernelspec": {
   "display_name": "Python 3",
   "language": "python",
   "name": "python3"
  },
  "language_info": {
   "codemirror_mode": {
    "name": "ipython",
    "version": 3
   },
   "file_extension": ".py",
   "mimetype": "text/x-python",
   "name": "python",
   "nbconvert_exporter": "python",
   "pygments_lexer": "ipython3",
   "version": "3.7.3"
  }
 },
 "nbformat": 4,
 "nbformat_minor": 4
}
